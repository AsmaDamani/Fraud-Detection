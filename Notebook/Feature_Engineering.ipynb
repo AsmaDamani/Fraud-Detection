{
  "nbformat": 4,
  "nbformat_minor": 0,
  "metadata": {
    "colab": {
      "name": "Feature_Engineering_FD.ipynb",
      "provenance": [],
      "collapsed_sections": []
    },
    "kernelspec": {
      "name": "python3",
      "display_name": "Python 3"
    }
  },
  "cells": [
    {
      "cell_type": "markdown",
      "metadata": {
        "id": "_nYG-Nq8_-B3",
        "colab_type": "text"
      },
      "source": [
        "### Spark Setup"
      ]
    },
    {
      "cell_type": "code",
      "metadata": {
        "id": "wTKqQvbI9oZK",
        "colab_type": "code",
        "colab": {}
      },
      "source": [
        "!apt-get install openjdk-8-jdk-headless -qq > /dev/null\n",
        "!wget -q https://www-us.apache.org/dist/spark/spark-2.3.4/spark-2.3.4-bin-hadoop2.7.tgz\n",
        "!tar xf spark-2.3.4-bin-hadoop2.7.tgz\n",
        "!pip install -q findspark"
      ],
      "execution_count": 1,
      "outputs": []
    },
    {
      "cell_type": "code",
      "metadata": {
        "id": "rAuVR_fwz_PU",
        "colab_type": "code",
        "colab": {
          "base_uri": "https://localhost:8080/",
          "height": 34
        },
        "outputId": "f85f413e-6390-4587-de06-4a614928d862"
      },
      "source": [
        "import os\n",
        "os.environ[\"JAVA_HOME\"] = \"/usr/lib/jvm/java-8-openjdk-amd64\"\n",
        "os.environ[\"SPARK_HOME\"] = \"/content/spark-2.3.4-bin-hadoop2.7\"\n",
        "\n",
        "import findspark\n",
        "findspark.init()\n",
        "\n",
        "from pyspark.sql import SparkSession\n",
        "spark = SparkSession.builder.master('local[*]').appName('test').getOrCreate()\n",
        "\n",
        "from pyspark import SparkConf\n",
        "SparkConf().set(\"spark.executor.memory\", \"13g\")"
      ],
      "execution_count": 3,
      "outputs": [
        {
          "output_type": "execute_result",
          "data": {
            "text/plain": [
              "<pyspark.conf.SparkConf at 0x7f2ec880c160>"
            ]
          },
          "metadata": {
            "tags": []
          },
          "execution_count": 3
        }
      ]
    },
    {
      "cell_type": "code",
      "metadata": {
        "id": "VAY60jucz3TZ",
        "colab_type": "code",
        "colab": {}
      },
      "source": [
        "import pyspark.sql.functions as F\n",
        "import pyspark.sql.types as T\n",
        "from pyspark.sql import Window\n",
        "\n",
        "import pandas as pd\n",
        "import numpy as np\n",
        "import zipfile\n",
        "from google.colab import files\n"
      ],
      "execution_count": 4,
      "outputs": []
    },
    {
      "cell_type": "code",
      "metadata": {
        "id": "-UBCmIj40P6K",
        "colab_type": "code",
        "colab": {
          "base_uri": "https://localhost:8080/",
          "height": 51
        },
        "outputId": "14f15fe0-24eb-4109-ce58-31b40f56dcf0"
      },
      "source": [
        "# Run this cell and select the kaggle.json file downloaded from the Kaggle account settings page.\n",
        "files.upload()\n",
        "# Install the Kaggle API client/.\n",
        "!pip install -q kaggle\n",
        "# The Kaggle API client expects this file to be in ~/.kaggle so move it there.\n",
        "!mkdir -p ~/.kaggle\n",
        "!cp kaggle.json ~/.kaggle/\n",
        "# Avoid Warnings\n",
        "!chmod 600 ~/.kaggle/kaggle.json\n",
        "#  Copy API command from kaggle and paste it to download desired dataset\n",
        "!kaggle datasets download -d ntnu-testimon/paysim1\n",
        "# open and extract files \n",
        "zip_ref = zipfile.ZipFile('paysim1.zip', 'r')\n",
        "zip_ref.extractall('files')\n",
        "zip_ref.close()\n",
        "# list the files present in zip\n",
        "!ls files"
      ],
      "execution_count": 3,
      "outputs": [
        {
          "output_type": "stream",
          "text": [
            "paysim1.zip: Skipping, found more recently modified local copy (use --force to force download)\n",
            "PS_20174392719_1491204439457_log.csv\n"
          ],
          "name": "stdout"
        }
      ]
    },
    {
      "cell_type": "code",
      "metadata": {
        "id": "zM6Gjajh0T2b",
        "colab_type": "code",
        "colab": {}
      },
      "source": [
        "# Read data to spark dataframe\n",
        "# set inferSchema = True, to get the input schema automatically from data.\n",
        "df = spark.read.csv('/content/files/PS_20174392719_1491204439457_log.csv', header=True, inferSchema = True)\n",
        "# columnar storage of data for efficient complex data processing.\n",
        "# df.repartition(1).write.partitionBy('type').mode(\"overwrite\").parquet(\"data/df.parquet\")\n",
        "# df = spark.read.option(\"mergeSchema\", \"true\").parquet(\"data/df.parquet\")"
      ],
      "execution_count": 17,
      "outputs": []
    },
    {
      "cell_type": "code",
      "metadata": {
        "id": "nVlWUVU3FTm4",
        "colab_type": "code",
        "colab": {}
      },
      "source": [
        "df= df.sort('step')    "
      ],
      "execution_count": 18,
      "outputs": []
    },
    {
      "cell_type": "code",
      "metadata": {
        "id": "igHss28zVCrT",
        "colab_type": "code",
        "colab": {}
      },
      "source": [
        "df = df.withColumnRenamed('nameOrig','Payee_Account')\n",
        "df = df.withColumnRenamed('nameDest','Beneficiary_Account')\n",
        "df = df.withColumnRenamed('oldbalanceOrg','Old_Bal_Orig')\n",
        "df = df.withColumnRenamed('newbalanceOrig','New_Bal_Orig')\n",
        "df = df.withColumnRenamed('oldbalanceDest','Old_Bal_Dest')\n",
        "df = df.withColumnRenamed('newbalanceDest','New_Bal_Dest')\n"
      ],
      "execution_count": 19,
      "outputs": []
    },
    {
      "cell_type": "code",
      "metadata": {
        "id": "u6ndGgY_niLO",
        "colab_type": "code",
        "colab": {}
      },
      "source": [
        "# creating consecutive Trxn_Id\n",
        "df = df.withColumn('count',F.monotonically_increasing_id() ).withColumn('Trxn_Id',F.row_number().over(Window.orderBy('count')) ).drop('count')\n"
      ],
      "execution_count": null,
      "outputs": []
    },
    {
      "cell_type": "code",
      "metadata": {
        "id": "3YW_wsH4nYOK",
        "colab_type": "code",
        "colab": {
          "base_uri": "https://localhost:8080/",
          "height": 479
        },
        "outputId": "6250cce3-d7ba-4413-f01b-9063eef53701"
      },
      "source": [
        "df.show()"
      ],
      "execution_count": 23,
      "outputs": [
        {
          "output_type": "stream",
          "text": [
            "+----+--------+---------+-------------+------------+------------+-------------------+------------+------------+-------+--------------+------------+-----------+-----------+-------------+-------+\n",
            "|step|    type|   amount|Payee_Account|Old_Bal_Orig|New_Bal_Orig|Beneficiary_Account|Old_Bal_Dest|New_Bal_Dest|isFraud|isFlaggedFraud|day_of_month|hour_of_day|day_of_week|week_of_month|Trxn_Id|\n",
            "+----+--------+---------+-------------+------------+------------+-------------------+------------+------------+-------+--------------+------------+-----------+-----------+-------------+-------+\n",
            "|   1| PAYMENT|  9839.64|  C1231006815|    170136.0|   160296.36|        M1979787155|         0.0|         0.0|      0|             0|           1|          1|        1.0|            1|      1|\n",
            "|   1| PAYMENT|  1864.28|  C1666544295|     21249.0|    19384.72|        M2044282225|         0.0|         0.0|      0|             0|           1|          1|        1.0|            1|      2|\n",
            "|   1|TRANSFER|    181.0|  C1305486145|       181.0|         0.0|         C553264065|         0.0|         0.0|      1|             0|           1|          1|        1.0|            1|      3|\n",
            "|   1|CASH_OUT|    181.0|   C840083671|       181.0|         0.0|          C38997010|     21182.0|         0.0|      1|             0|           1|          1|        1.0|            1|      4|\n",
            "|   1| PAYMENT| 11668.14|  C2048537720|     41554.0|    29885.86|        M1230701703|         0.0|         0.0|      0|             0|           1|          1|        1.0|            1|      5|\n",
            "|   1| PAYMENT|  7817.71|    C90045638|     53860.0|    46042.29|         M573487274|         0.0|         0.0|      0|             0|           1|          1|        1.0|            1|      6|\n",
            "|   1| PAYMENT|  7107.77|   C154988899|    183195.0|   176087.23|         M408069119|         0.0|         0.0|      0|             0|           1|          1|        1.0|            1|      7|\n",
            "|   1| PAYMENT|  7861.64|  C1912850431|   176087.23|   168225.59|         M633326333|         0.0|         0.0|      0|             0|           1|          1|        1.0|            1|      8|\n",
            "|   1| PAYMENT|  4024.36|  C1265012928|      2671.0|         0.0|        M1176932104|         0.0|         0.0|      0|             0|           1|          1|        1.0|            1|      9|\n",
            "|   1|   DEBIT|  5337.77|   C712410124|     41720.0|    36382.23|         C195600860|     41898.0|    40348.79|      0|             0|           1|          1|        1.0|            1|     10|\n",
            "|   1|   DEBIT|  9644.94|  C1900366749|      4465.0|         0.0|         C997608398|     10845.0|   157982.12|      0|             0|           1|          1|        1.0|            1|     11|\n",
            "|   1| PAYMENT|  3099.97|   C249177573|     20771.0|    17671.03|        M2096539129|         0.0|         0.0|      0|             0|           1|          1|        1.0|            1|     12|\n",
            "|   1| PAYMENT|  2560.74|  C1648232591|      5070.0|     2509.26|         M972865270|         0.0|         0.0|      0|             0|           1|          1|        1.0|            1|     13|\n",
            "|   1| PAYMENT| 11633.76|  C1716932897|     10127.0|         0.0|         M801569151|         0.0|         0.0|      0|             0|           1|          1|        1.0|            1|     14|\n",
            "|   1| PAYMENT|  4098.78|  C1026483832|    503264.0|   499165.22|        M1635378213|         0.0|         0.0|      0|             0|           1|          1|        1.0|            1|     15|\n",
            "|   1|CASH_OUT|229133.94|   C905080434|     15325.0|         0.0|         C476402209|      5083.0|    51513.44|      0|             0|           1|          1|        1.0|            1|     16|\n",
            "|   1| PAYMENT|  1563.82|   C761750706|       450.0|         0.0|        M1731217984|         0.0|         0.0|      0|             0|           1|          1|        1.0|            1|     17|\n",
            "|   1| PAYMENT|  1157.86|  C1237762639|     21156.0|    19998.14|        M1877062907|         0.0|         0.0|      0|             0|           1|          1|        1.0|            1|     18|\n",
            "|   1| PAYMENT|   671.64|  C2033524545|     15123.0|    14451.36|         M473053293|         0.0|         0.0|      0|             0|           1|          1|        1.0|            1|     19|\n",
            "|   1|TRANSFER| 215310.3|  C1670993182|       705.0|         0.0|        C1100439041|     22425.0|         0.0|      0|             0|           1|          1|        1.0|            1|     20|\n",
            "+----+--------+---------+-------------+------------+------------+-------------------+------------+------------+-------+--------------+------------+-----------+-----------+-------------+-------+\n",
            "only showing top 20 rows\n",
            "\n"
          ],
          "name": "stdout"
        }
      ]
    },
    {
      "cell_type": "markdown",
      "metadata": {
        "id": "Kf8gJLNrOz3Q",
        "colab_type": "text"
      },
      "source": [
        "## Time-based Features"
      ]
    },
    {
      "cell_type": "code",
      "metadata": {
        "id": "YgXjllesPDDt",
        "colab_type": "code",
        "colab": {}
      },
      "source": [
        "df = df.withColumn('day_of_month', F.when( (F.col('step')%24) !=0, ( ( F.col('step')/24) +1)).otherwise(( F.col('step')/24)).cast(T.IntegerType()))\n",
        "df = df.withColumn('hour_of_day',F.when((F.col('step')%24)!=0,  (F.col('step')%24)).otherwise(24).cast(T.IntegerType()))\n",
        "df = df.withColumn('day_of_week',F.when((F.col('day_of_month')%7)!=0,(F.col('day_of_month')%7)).otherwise(7.0))\n",
        "df = df.withColumn('week_of_month',F.when( (F.col('day_of_month')%7) !=0, ( ( F.col('day_of_month')/7) +1)).otherwise( F.col('day_of_month')/7).cast(T.IntegerType()))"
      ],
      "execution_count": 25,
      "outputs": []
    },
    {
      "cell_type": "markdown",
      "metadata": {
        "id": "lDDIo5IvMc9G",
        "colab_type": "text"
      },
      "source": [
        "Periodic Mean and Standard Deviation"
      ]
    },
    {
      "cell_type": "code",
      "metadata": {
        "id": "lvzoRj6F63oT",
        "colab_type": "code",
        "colab": {}
      },
      "source": [
        "# not implemented"
      ],
      "execution_count": 16,
      "outputs": []
    },
    {
      "cell_type": "markdown",
      "metadata": {
        "id": "HBNort9AU3Px",
        "colab_type": "text"
      },
      "source": [
        "## Customer Spending Patterns\n",
        "Number and amount of transactions for the last N hours for an account \n"
      ]
    },
    {
      "cell_type": "code",
      "metadata": {
        "id": "rb8SfGrNBHJf",
        "colab_type": "code",
        "colab": {}
      },
      "source": [
        "\n",
        "df = df.withColumn(\"Count_PA_12HR\", F.count('Trxn_Id').over(Window.partitionBy(\"Payee_Account\").orderBy(\"step\").rangeBetween(-12, Window.currentRow)))\n",
        "df = df.withColumn(\"Count_PA_24HR\", F.count('Trxn_Id').over(Window.partitionBy(\"Payee_Account\").orderBy(\"step\").rangeBetween(-24, Window.currentRow)))\n"
      ],
      "execution_count": 31,
      "outputs": []
    },
    {
      "cell_type": "code",
      "metadata": {
        "id": "tpA-mnHQMegv",
        "colab_type": "code",
        "colab": {}
      },
      "source": [
        "\n",
        "df = df.withColumn(\"Sum_Amount_PA_12HR\", F.sum('amount').over(Window.partitionBy(\"Payee_Account\").orderBy(\"step\").rangeBetween(-12, Window.currentRow)))\n",
        "df = df.withColumn(\"Sum_Amount_PA_24HR\", F.sum('amount').over(Window.partitionBy(\"Payee_Account\").orderBy(\"step\").rangeBetween(-24, Window.currentRow)))\n"
      ],
      "execution_count": 32,
      "outputs": []
    },
    {
      "cell_type": "markdown",
      "metadata": {
        "id": "GfmKPhm4OguN",
        "colab_type": "text"
      },
      "source": [
        "Number and amount of transactions for the last N hours for a transaction type\n"
      ]
    },
    {
      "cell_type": "code",
      "metadata": {
        "id": "ZYYMVj4NCrS3",
        "colab_type": "code",
        "colab": {}
      },
      "source": [
        "\n",
        "df = df.withColumn(\"Count_Type_12HR\", F.count('trxn_Id').over(Window.partitionBy(\"type\").orderBy(\"step\").rangeBetween(-12, Window.currentRow)))\n",
        "df = df.withColumn(\"Count_Type_24HR\", F.count('trxn_Id').over(Window.partitionBy(\"type\").orderBy(\"step\").rangeBetween(-24, Window.currentRow)))\n"
      ],
      "execution_count": 33,
      "outputs": []
    },
    {
      "cell_type": "code",
      "metadata": {
        "id": "RcdWqSnVHtyI",
        "colab_type": "code",
        "colab": {}
      },
      "source": [
        "\n",
        "df = df.withColumn(\"Max_Amount_Type_12HR\", F.max('amount').over(Window.partitionBy(\"type\").orderBy(\"step\").rangeBetween(-12, Window.currentRow)))\n",
        "df = df.withColumn(\"Max_Amount_Type_24HR\", F.max('amount').over(Window.partitionBy(\"type\").orderBy(\"step\").rangeBetween(-24, Window.currentRow)))\n"
      ],
      "execution_count": 34,
      "outputs": []
    },
    {
      "cell_type": "markdown",
      "metadata": {
        "id": "jsgii-wGOlNo",
        "colab_type": "text"
      },
      "source": [
        "Frequency of the beneficiary account for each payee account with larger transaction amount  in the last N days (increase the risk factor for that transaction) \n"
      ]
    },
    {
      "cell_type": "code",
      "metadata": {
        "id": "FXXhMot5NqKj",
        "colab_type": "code",
        "colab": {}
      },
      "source": [
        "\n",
        "df = df.withColumn(\"Count_BA_12HR\", F.count('Beneficiary_Account').over(Window.partitionBy(\"Payee_Account\").orderBy(\"step\").rangeBetween(-12, Window.currentRow)))\n",
        "df = df.withColumn(\"Count_BA_24HR\", F.count('Beneficiary_Account').over(Window.partitionBy(\"Payee_Account\").orderBy(\"step\").rangeBetween(-24, Window.currentRow)))\n"
      ],
      "execution_count": 35,
      "outputs": []
    },
    {
      "cell_type": "markdown",
      "metadata": {
        "id": "f7XthdbTMMcI",
        "colab_type": "text"
      },
      "source": [
        "## Frequency-Based Features"
      ]
    },
    {
      "cell_type": "markdown",
      "metadata": {
        "id": "gIhTremcb8jL",
        "colab_type": "text"
      },
      "source": [
        " Maximum amount for each account for the last 30 days"
      ]
    },
    {
      "cell_type": "code",
      "metadata": {
        "id": "U_tZf7W1TWTm",
        "colab_type": "code",
        "colab": {}
      },
      "source": [
        "df = df.withColumn(\"max_amt_30_days\", F.max('amount').over(Window.partitionBy(\"Payee_Account\").orderBy(\"day_of_month\").rangeBetween(-30, Window.currentRow)))"
      ],
      "execution_count": 36,
      "outputs": []
    },
    {
      "cell_type": "code",
      "metadata": {
        "id": "dtq2dnIGJGkf",
        "colab_type": "code",
        "colab": {
          "base_uri": "https://localhost:8080/",
          "height": 156
        },
        "outputId": "78c6352d-3dcb-4368-893d-ffe54fdad471"
      },
      "source": [
        "# df.filter(\"Payee_Account='C1154436417'\").show()"
      ],
      "execution_count": 25,
      "outputs": [
        {
          "output_type": "stream",
          "text": [
            "+----+--------+---------+-------------+------------+------------+-------------------+------------+------------+-------+--------------+------------+-----------+-----------+-------------+-------------+-------------+------------------+------------------+---------------+---------------+--------------------+--------------------+-------------+-------------+---------------+\n",
            "|step|    type|   amount|Payee_Account|Old_Bal_Orig|New_Bal_Orig|Beneficiary_Account|Old_Bal_Dest|New_Bal_Dest|isFraud|isFlaggedFraud|day_of_month|hour_of_day|day_of_week|week_of_month|Count_PA_12HR|Count_PA_24HR|Sum_Amount_PA_12HR|Sum_Amount_PA_24HR|Count_Type_12HR|Count_Type_24HR|Max_Amount_Type_12HR|Max_Amount_Type_24HR|Count_BA_12HR|Count_BA_24HR|max_amt_30_days|\n",
            "+----+--------+---------+-------------+------------+------------+-------------------+------------+------------+-------+--------------+------------+-----------+-----------+-------------+-------------+-------------+------------------+------------------+---------------+---------------+--------------------+--------------------+-------------+-------------+---------------+\n",
            "|  16|CASH_OUT|396596.79|  C1154436417|         0.0|         0.0|        C1433779445|  7291602.02|  7961295.23|      0|             0|           1|         16|        1.0|            1|            1|            1|         396596.79|         396596.79|         123127|         123671|               1.0E7|               1.0E7|            1|            1|      396596.79|\n",
            "| 230| PAYMENT| 10750.88|  C1154436417|     99394.0|    88643.12|         M136691814|         0.0|         0.0|      0|             0|          10|         14|        3.0|            2|            1|            1|          10750.88|          10750.88|          52469|         146671|           145501.49|           145501.49|            1|            1|      396596.79|\n",
            "+----+--------+---------+-------------+------------+------------+-------------------+------------+------------+-------+--------------+------------+-----------+-----------+-------------+-------------+-------------+------------------+------------------+---------------+---------------+--------------------+--------------------+-------------+-------------+---------------+\n",
            "\n"
          ],
          "name": "stdout"
        }
      ]
    },
    {
      "cell_type": "markdown",
      "metadata": {
        "id": "npEFCx_CcCpm",
        "colab_type": "text"
      },
      "source": [
        "% difference of the transaction amount with the last maximum amount."
      ]
    },
    {
      "cell_type": "code",
      "metadata": {
        "id": "LF_1Y25fSZ4k",
        "colab_type": "code",
        "colab": {}
      },
      "source": [
        "df = df.withColumn(\"diff_with_max\", F.col('amount')-F.col('max_amt_30_days'))\n",
        "df = df.withColumn(\"perc_diff_with_max\", F.when(F.col('diff_with_max')>0,F.col('diff_with_max')/F.col('max_amt_30_days')*100).otherwise(0))"
      ],
      "execution_count": 37,
      "outputs": []
    },
    {
      "cell_type": "markdown",
      "metadata": {
        "id": "m0IzNtZq90fj",
        "colab_type": "text"
      },
      "source": [
        "Frequency of the beneficiary account for each payee account  in the last N days (increase the risk factor for that transaction) \n"
      ]
    },
    {
      "cell_type": "code",
      "metadata": {
        "id": "Liz_prfAAzPw",
        "colab_type": "code",
        "colab": {}
      },
      "source": [
        "df = df.withColumn(\"Freq_Benef_Acc\", F.count('Payee_Account').over(Window.partitionBy(\"Beneficiary_Account\").orderBy(\"day_of_month\").rangeBetween(-30, Window.currentRow)) )"
      ],
      "execution_count": 38,
      "outputs": []
    },
    {
      "cell_type": "code",
      "metadata": {
        "id": "15XWEVNAJDGx",
        "colab_type": "code",
        "colab": {
          "base_uri": "https://localhost:8080/",
          "height": 190
        },
        "outputId": "884c0200-10f8-4d22-fe58-f44cfe1f2ef7"
      },
      "source": [
        "# df.filter(\"Beneficiary_Account='C1001354766'\").show()"
      ],
      "execution_count": 16,
      "outputs": [
        {
          "output_type": "stream",
          "text": [
            "+----+--------+---------+-------------+-------------+------------+-------------------+------------+------------+-------+--------------+------------+-----------+-----------+-------------+-------------+-------------+------------------+------------------+---------------+---------------+--------------------+--------------------+-------------+-------------+---------------+-------------+------------------+--------------+\n",
            "|step|    type|   amount|Payee_Account| Old_Bal_Orig|New_Bal_Orig|Beneficiary_Account|Old_Bal_Dest|New_Bal_Dest|isFraud|isFlaggedFraud|day_of_month|hour_of_day|day_of_week|week_of_month|Count_PA_12HR|Count_PA_24HR|Sum_Amount_PA_12HR|Sum_Amount_PA_24HR|Count_Type_12HR|Count_Type_24HR|Max_Amount_Type_12HR|Max_Amount_Type_24HR|Count_BA_12HR|Count_BA_24HR|max_amt_30_days|diff_with_max|perc_diff_with_max|Freq_Benef_Acc|\n",
            "+----+--------+---------+-------------+-------------+------------+-------------------+------------+------------+-------+--------------+------------+-----------+-----------+-------------+-------------+-------------+------------------+------------------+---------------+---------------+--------------------+--------------------+-------------+-------------+---------------+-------------+------------------+--------------+\n",
            "| 299|CASH_OUT| 81518.85|  C1416873430|      25364.0|         0.0|        C1001354766|    10561.78|    92080.63|      0|             0|          13|         11|        6.0|            2|            1|            1|          81518.85|          81518.85|          31591|         141781|               1.0E7|               1.0E7|            1|            1|       81518.85|          0.0|               0.0|             1|\n",
            "| 353| CASH_IN|  4581.16|   C390490836|1.544342734E7|1.54480085E7|        C1001354766|    92080.63|    87499.47|      0|             0|          15|         17|        1.0|            3|            1|            1|           4581.16|           4581.16|          55598|          95002|          1573923.99|          1573923.99|            1|            1|        4581.16|          0.0|               0.0|             2|\n",
            "| 395|CASH_OUT|373974.71|   C686802298|        483.0|         0.0|        C1001354766|    87499.47|   461474.18|      0|             0|          17|         11|        3.0|            3|            1|            1|         373974.71|         373974.71|          27312|         143096|               1.0E7|               1.0E7|            1|            1|      373974.71|          0.0|               0.0|             4|\n",
            "| 398|CASH_OUT|115616.86|   C942252729|          0.0|         0.0|        C1001354766|   461474.18|   577091.04|      0|             0|          17|         14|        3.0|            3|            1|            1|         115616.86|         115616.86|          58958|         145729|               1.0E7|               1.0E7|            1|            1|      115616.86|          0.0|               0.0|             4|\n",
            "+----+--------+---------+-------------+-------------+------------+-------------------+------------+------------+-------+--------------+------------+-----------+-----------+-------------+-------------+-------------+------------------+------------------+---------------+---------------+--------------------+--------------------+-------------+-------------+---------------+-------------+------------------+--------------+\n",
            "\n"
          ],
          "name": "stdout"
        }
      ]
    },
    {
      "cell_type": "markdown",
      "metadata": {
        "id": "z76JUJmLr3LS",
        "colab_type": "text"
      },
      "source": [
        "Flag large transaction  amount which empties the account balance to zero\n"
      ]
    },
    {
      "cell_type": "code",
      "metadata": {
        "id": "Se2ZoqfixJsZ",
        "colab_type": "code",
        "colab": {}
      },
      "source": [
        "THRESHOLD = 200000\n",
        "df = df.withColumn('Large_Empty',F.when( ((F.col('amount')>THRESHOLD) & (F.col('New_Bal_Orig')==0)) , 1).otherwise(0))"
      ],
      "execution_count": 39,
      "outputs": []
    },
    {
      "cell_type": "markdown",
      "metadata": {
        "id": "NOz-_cxRt6PH",
        "colab_type": "text"
      },
      "source": [
        "Average amount spent over a week during past month  on the same beneficiary as this transaction\n"
      ]
    },
    {
      "cell_type": "code",
      "metadata": {
        "id": "QvK7EknLvHiv",
        "colab_type": "code",
        "colab": {}
      },
      "source": [
        "# not implemented yet"
      ],
      "execution_count": 18,
      "outputs": []
    },
    {
      "cell_type": "markdown",
      "metadata": {
        "id": "uCK2r7Sv5Otb",
        "colab_type": "text"
      },
      "source": [
        "Total amount spent on the same day up to this transaction\n"
      ]
    },
    {
      "cell_type": "code",
      "metadata": {
        "id": "mov48K_g5QUh",
        "colab_type": "code",
        "colab": {}
      },
      "source": [
        "df = df.withColumn(\"Amount_Spent_On_Day\", F.sum('amount').over(Window.partitionBy(\"Payee_Account\",\"day_of_week\").orderBy(\"step\").rangeBetween(Window.unboundedPreceding, Window.currentRow)))"
      ],
      "execution_count": 40,
      "outputs": []
    },
    {
      "cell_type": "code",
      "metadata": {
        "id": "6OqjBgNcED6i",
        "colab_type": "code",
        "colab": {}
      },
      "source": [
        "df.filter(\"Payee_Account='C935362246'\").show()"
      ],
      "execution_count": null,
      "outputs": []
    },
    {
      "cell_type": "markdown",
      "metadata": {
        "id": "7XzlbSRT5ST3",
        "colab_type": "text"
      },
      "source": [
        "Total number of transactions on the same day up to this transaction\n"
      ]
    },
    {
      "cell_type": "code",
      "metadata": {
        "id": "ujvErAkGoiwF",
        "colab_type": "code",
        "colab": {}
      },
      "source": [
        "df = df.withColumn(\"Count_Trxns_On_Day\", F.count('Trxn_Id').over(Window.partitionBy(\"Payee_Account\",\"day_of_week\").orderBy(\"step\").rangeBetween(Window.unboundedPreceding, Window.currentRow)))"
      ],
      "execution_count": null,
      "outputs": []
    }
  ]
}