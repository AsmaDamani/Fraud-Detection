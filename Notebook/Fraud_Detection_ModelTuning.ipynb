{
  "nbformat": 4,
  "nbformat_minor": 0,
  "metadata": {
    "colab": {
      "name": "Fraud_Detection_ModelTuning.ipynb",
      "provenance": [],
      "collapsed_sections": []
    },
    "kernelspec": {
      "name": "python3",
      "display_name": "Python 3"
    },
    "accelerator": "GPU"
  },
  "cells": [
    {
      "cell_type": "markdown",
      "metadata": {
        "id": "_nYG-Nq8_-B3",
        "colab_type": "text"
      },
      "source": [
        "# Spark Setup"
      ]
    },
    {
      "cell_type": "code",
      "metadata": {
        "id": "wTKqQvbI9oZK",
        "colab_type": "code",
        "colab": {}
      },
      "source": [
        "!apt-get install openjdk-8-jdk-headless -qq > /dev/null\n",
        "!wget -q https://www-us.apache.org/dist/spark/spark-2.3.4/spark-2.3.4-bin-hadoop2.7.tgz\n",
        "!tar xf spark-2.3.4-bin-hadoop2.7.tgz\n",
        "!pip install -q findspark"
      ],
      "execution_count": 1,
      "outputs": []
    },
    {
      "cell_type": "code",
      "metadata": {
        "id": "rAuVR_fwz_PU",
        "colab_type": "code",
        "colab": {
          "base_uri": "https://localhost:8080/",
          "height": 35
        },
        "outputId": "e742d1cb-b409-4464-c412-5a4e17b1bd7f"
      },
      "source": [
        "import os\n",
        "os.environ[\"JAVA_HOME\"] = \"/usr/lib/jvm/java-8-openjdk-amd64\"\n",
        "os.environ[\"SPARK_HOME\"] = \"/content/spark-2.3.4-bin-hadoop2.7\"\n",
        "\n",
        "import findspark\n",
        "findspark.init()\n",
        "\n",
        "from pyspark.sql import SparkSession\n",
        "spark = SparkSession.builder.master('local[*]').appName('test').getOrCreate()\n",
        "\n",
        "from pyspark import SparkConf\n",
        "SparkConf().set(\"spark.executor.memory\", \"13g\")"
      ],
      "execution_count": 2,
      "outputs": [
        {
          "output_type": "execute_result",
          "data": {
            "text/plain": [
              "<pyspark.conf.SparkConf at 0x7fd717e5c9b0>"
            ]
          },
          "metadata": {
            "tags": []
          },
          "execution_count": 2
        }
      ]
    },
    {
      "cell_type": "code",
      "metadata": {
        "id": "VAY60jucz3TZ",
        "colab_type": "code",
        "colab": {
          "base_uri": "https://localhost:8080/",
          "height": 74
        },
        "outputId": "f1a1654a-fd6d-4f38-8407-3d68c68def82"
      },
      "source": [
        "import pyspark.sql.functions as F\n",
        "import pyspark.sql.types as T\n",
        "from pyspark.ml.feature import Bucketizer \n",
        "\n",
        "import seaborn as sns\n",
        "import matplotlib.pyplot as plt\n",
        "sns.set(style=\"whitegrid\")\n",
        "import matplotlib\n",
        "import pandas as pd\n",
        "import numpy as np\n",
        "import zipfile\n",
        "from google.colab import files\n"
      ],
      "execution_count": 3,
      "outputs": [
        {
          "output_type": "stream",
          "text": [
            "/usr/local/lib/python3.6/dist-packages/statsmodels/tools/_testing.py:19: FutureWarning: pandas.util.testing is deprecated. Use the functions in the public API at pandas.testing instead.\n",
            "  import pandas.util.testing as tm\n"
          ],
          "name": "stderr"
        }
      ]
    },
    {
      "cell_type": "code",
      "metadata": {
        "id": "-UBCmIj40P6K",
        "colab_type": "code",
        "colab": {
          "resources": {
            "http://localhost:8080/nbextensions/google.colab/files.js": {
              "data": "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",
              "ok": true,
              "headers": [
                [
                  "content-type",
                  "application/javascript"
                ]
              ],
              "status": 200,
              "status_text": "OK"
            }
          },
          "base_uri": "https://localhost:8080/",
          "height": 147
        },
        "outputId": "31bfcd86-1524-4615-b0af-bf24e14f0430"
      },
      "source": [
        "# Run this cell and select the kaggle.json file downloaded from the Kaggle account settings page.\n",
        "files.upload()\n",
        "# Install the Kaggle API client/.\n",
        "!pip install -q kaggle\n",
        "# The Kaggle API client expects this file to be in ~/.kaggle so move it there.\n",
        "!mkdir -p ~/.kaggle\n",
        "!cp kaggle.json ~/.kaggle/\n",
        "# Avoid Warnings\n",
        "!chmod 600 ~/.kaggle/kaggle.json\n",
        "#  Copy API command from kaggle and paste it to download desired dataset\n",
        "!kaggle datasets download -d ntnu-testimon/paysim1\n",
        "# open and extract files \n",
        "zip_ref = zipfile.ZipFile('paysim1.zip', 'r')\n",
        "zip_ref.extractall('files')\n",
        "zip_ref.close()\n",
        "# list the files present in zip\n",
        "!ls files"
      ],
      "execution_count": 4,
      "outputs": [
        {
          "output_type": "display_data",
          "data": {
            "text/html": [
              "\n",
              "     <input type=\"file\" id=\"files-010695f4-951b-4fb2-9f54-7316f8e9972a\" name=\"files[]\" multiple disabled\n",
              "        style=\"border:none\" />\n",
              "     <output id=\"result-010695f4-951b-4fb2-9f54-7316f8e9972a\">\n",
              "      Upload widget is only available when the cell has been executed in the\n",
              "      current browser session. Please rerun this cell to enable.\n",
              "      </output>\n",
              "      <script src=\"/nbextensions/google.colab/files.js\"></script> "
            ],
            "text/plain": [
              "<IPython.core.display.HTML object>"
            ]
          },
          "metadata": {
            "tags": []
          }
        },
        {
          "output_type": "stream",
          "text": [
            "Saving kaggle.json to kaggle.json\n",
            "Downloading paysim1.zip to /content\n",
            " 98% 175M/178M [00:02<00:00, 63.5MB/s]\n",
            "100% 178M/178M [00:02<00:00, 68.2MB/s]\n",
            "PS_20174392719_1491204439457_log.csv\n"
          ],
          "name": "stdout"
        }
      ]
    },
    {
      "cell_type": "code",
      "metadata": {
        "id": "zM6Gjajh0T2b",
        "colab_type": "code",
        "colab": {}
      },
      "source": [
        "# Read data to spark dataframe\n",
        "# set inferSchema = True, to get the input schema automatically from data.\n",
        "df = spark.read.csv('/content/files/PS_20174392719_1491204439457_log.csv', header=True, inferSchema = True)\n",
        "# columnar storage of data for efficient complex data processing.\n",
        "# df.repartition(1).write.partitionBy('type').mode(\"overwrite\").parquet(\"data/df.parquet\")\n",
        "# df = spark.read.option(\"mergeSchema\", \"true\").parquet(\"data/df.parquet\")"
      ],
      "execution_count": 5,
      "outputs": []
    },
    {
      "cell_type": "markdown",
      "metadata": {
        "id": "xjgQykkk5r5R",
        "colab_type": "text"
      },
      "source": [
        "## Time Step Features"
      ]
    },
    {
      "cell_type": "code",
      "metadata": {
        "id": "BTMPZ4P6uXES",
        "colab_type": "code",
        "colab": {}
      },
      "source": [
        "df = df.withColumn('day_of_month', F.when( (F.col('step')%24) !=0, ( ( F.col('step')/24) +1)).otherwise(( F.col('step')/24)).cast(T.IntegerType()))\n",
        "df = df.withColumn('hour_of_day',F.when((F.col('step')%24)!=0,  (F.col('step')%24)).otherwise(24).cast(T.IntegerType()))\n",
        "df = df.withColumn('day_of_week',F.when((F.col('day_of_month')%7)!=0,(F.col('day_of_month')%7)).otherwise(7.0))\n",
        "df = df.withColumn('week_of_month',F.when( (F.col('day_of_month')%7) !=0, ( ( F.col('day_of_month')/7) +1)).otherwise( F.col('day_of_month')/7).cast(T.IntegerType()))"
      ],
      "execution_count": 6,
      "outputs": []
    },
    {
      "cell_type": "code",
      "metadata": {
        "id": "ih3FA_sz3Okl",
        "colab_type": "code",
        "colab": {}
      },
      "source": [
        "df_final = df.filter(F.col('type').isin(['TRANSFER','CASH_OUT']))"
      ],
      "execution_count": 7,
      "outputs": []
    },
    {
      "cell_type": "code",
      "metadata": {
        "id": "q3r_PqGQi6yM",
        "colab_type": "code",
        "colab": {}
      },
      "source": [
        "df_final = df_final.withColumn('TRANSFER',F.when(F.col('type')=='TRANSFER',1).otherwise(0))\n",
        "df_final = df_final.withColumn('CASH_OUT',F.when(F.col('type')=='CASH_OUT',1).otherwise(0))\n"
      ],
      "execution_count": 8,
      "outputs": []
    },
    {
      "cell_type": "markdown",
      "metadata": {
        "id": "J7gWskuQ3D7u",
        "colab_type": "text"
      },
      "source": [
        "Split Amount in 93 Buckets, each of one million."
      ]
    },
    {
      "cell_type": "code",
      "metadata": {
        "id": "iPx2Z2crj7_Z",
        "colab_type": "code",
        "colab": {}
      },
      "source": [
        "bucketizer = Bucketizer(splits=list(range(0,100000000,1000000)),inputCol='amount', outputCol= \"amount_bucket\")\n",
        "df_final = bucketizer.transform(df_final)\n",
        "df_final = df_final.withColumn('amount_bucket',F.col('amount_bucket')+1)"
      ],
      "execution_count": 9,
      "outputs": []
    },
    {
      "cell_type": "code",
      "metadata": {
        "id": "MIAG8GSPjtaV",
        "colab_type": "code",
        "colab": {}
      },
      "source": [
        "df_final = df_final.drop(*['nameOrig', 'nameDest','isFlaggedFraud','type','day_of_month', 'day_of_week', 'week_of_month'])"
      ],
      "execution_count": 10,
      "outputs": []
    },
    {
      "cell_type": "code",
      "metadata": {
        "id": "jUnNxT3034XH",
        "colab_type": "code",
        "colab": {
          "base_uri": "https://localhost:8080/",
          "height": 220
        },
        "outputId": "acf6aa18-7c46-454f-8961-ff4bcba8451e"
      },
      "source": [
        "df_final.columns"
      ],
      "execution_count": 11,
      "outputs": [
        {
          "output_type": "execute_result",
          "data": {
            "text/plain": [
              "['step',\n",
              " 'amount',\n",
              " 'oldbalanceOrg',\n",
              " 'newbalanceOrig',\n",
              " 'oldbalanceDest',\n",
              " 'newbalanceDest',\n",
              " 'isFraud',\n",
              " 'hour_of_day',\n",
              " 'TRANSFER',\n",
              " 'CASH_OUT',\n",
              " 'amount_bucket']"
            ]
          },
          "metadata": {
            "tags": []
          },
          "execution_count": 11
        }
      ]
    },
    {
      "cell_type": "code",
      "metadata": {
        "id": "NgaqEpjr87CK",
        "colab_type": "code",
        "colab": {}
      },
      "source": [
        "df_final = df_final.sort('step')"
      ],
      "execution_count": 12,
      "outputs": []
    },
    {
      "cell_type": "code",
      "metadata": {
        "id": "aIyXabe-4zSb",
        "colab_type": "code",
        "colab": {}
      },
      "source": [
        "# df_final.show()"
      ],
      "execution_count": 13,
      "outputs": []
    },
    {
      "cell_type": "code",
      "metadata": {
        "id": "1ZYUvfxK7Uw8",
        "colab_type": "code",
        "colab": {}
      },
      "source": [
        "X = df_final.drop('isFraud')\n",
        "Y = df_final.select('isFraud')"
      ],
      "execution_count": 14,
      "outputs": []
    },
    {
      "cell_type": "markdown",
      "metadata": {
        "id": "_aA56XvsTWZR",
        "colab_type": "text"
      },
      "source": [
        "# Modeling"
      ]
    },
    {
      "cell_type": "code",
      "metadata": {
        "id": "NB16Kkd_TYRU",
        "colab_type": "code",
        "colab": {}
      },
      "source": [
        "# Importing Libraries\n",
        "from sklearn.model_selection import train_test_split\n",
        "from sklearn.metrics import accuracy_score, precision_score, recall_score,confusion_matrix\n",
        "import pandas as pd\n",
        "import numpy as np\n",
        "from sklearn.preprocessing import StandardScaler\n",
        "from sklearn.preprocessing import OneHotEncoder\n",
        "from keras.models import Sequential\n",
        "from keras.layers import Dense, Activation, Dropout\n",
        "from keras.wrappers.scikit_learn import KerasClassifier\n",
        "from sklearn.model_selection import GridSearchCV, RandomizedSearchCV\n",
        "import seaborn as sns"
      ],
      "execution_count": 93,
      "outputs": []
    },
    {
      "cell_type": "code",
      "metadata": {
        "id": "-w6AE3WkTxd9",
        "colab_type": "code",
        "colab": {}
      },
      "source": [
        "# Conversion to Pandas DataFrame\n",
        "Xpd=X.toPandas()\n",
        "Ypd=Y.toPandas()"
      ],
      "execution_count": 94,
      "outputs": []
    },
    {
      "cell_type": "markdown",
      "metadata": {
        "id": "JJJLueWo0ad9",
        "colab_type": "text"
      },
      "source": [
        "## Weighted Neural Network With Keras"
      ]
    },
    {
      "cell_type": "markdown",
      "metadata": {
        "id": "TdKduM47mNZ5",
        "colab_type": "text"
      },
      "source": [
        "Reshaping and Normalizing"
      ]
    },
    {
      "cell_type": "code",
      "metadata": {
        "id": "q6XOr2FO0e_J",
        "colab_type": "code",
        "colab": {}
      },
      "source": [
        "# Reshaping\n",
        "Ypd=Ypd.values.reshape(-1,1)\n",
        "\n",
        "# Normalizing\n",
        "st_sc = StandardScaler()\n",
        "Xpd = st_sc.fit_transform(Xpd)"
      ],
      "execution_count": 95,
      "outputs": []
    },
    {
      "cell_type": "code",
      "metadata": {
        "id": "0DBhkHUZ1HG6",
        "colab_type": "code",
        "colab": {}
      },
      "source": [
        "# ohe=OneHotEncoder()\n",
        "# Ypd=ohe.fit_transform(Ypd).toarray()"
      ],
      "execution_count": 96,
      "outputs": []
    },
    {
      "cell_type": "markdown",
      "metadata": {
        "id": "9cG2gbPDmR0o",
        "colab_type": "text"
      },
      "source": [
        "Train Test Split"
      ]
    },
    {
      "cell_type": "code",
      "metadata": {
        "id": "klGY532D1RKJ",
        "colab_type": "code",
        "colab": {}
      },
      "source": [
        "# spliting\n",
        "x_train, x_test, y_train,y_test=train_test_split(Xpd,Ypd, test_size=0.2, random_state=1)"
      ],
      "execution_count": 97,
      "outputs": []
    },
    {
      "cell_type": "markdown",
      "metadata": {
        "id": "2px-RsVYmgmu",
        "colab_type": "text"
      },
      "source": [
        "Modeling"
      ]
    },
    {
      "cell_type": "code",
      "metadata": {
        "id": "YqHau05LnNoa",
        "colab_type": "code",
        "colab": {}
      },
      "source": [
        "# Heuristic based class weighing, inverting ratio of the class distribution and taking squareroot\n",
        "weights = {0:1, 1:np.sqrt(336)}"
      ],
      "execution_count": 98,
      "outputs": []
    },
    {
      "cell_type": "code",
      "metadata": {
        "id": "Mv5HaBOT1Yz7",
        "colab_type": "code",
        "colab": {}
      },
      "source": [
        "# Function for model creation\n",
        "def create_model(optimizer = \"adam\", dropout_rate=0.0, init_mode='uniform', activation='relu'):\n",
        "  model = Sequential()\n",
        "  model.add(Dense(units = 64, input_dim = 10, activation = activation, kernel_initializer=init_mode))\n",
        "  model.add(Dense(units = 32, activation = activation))\n",
        "  model.add(Dropout(dropout_rate))\n",
        "  model.add(Dense(units = 1, activation = \"sigmoid\"))\n",
        "  model.compile(optimizer = optimizer, loss = \"binary_crossentropy\", metrics = [\"accuracy\"])\n",
        "  return model"
      ],
      "execution_count": 99,
      "outputs": []
    },
    {
      "cell_type": "code",
      "metadata": {
        "id": "pkNzCppKL9UK",
        "colab_type": "code",
        "colab": {}
      },
      "source": [
        "# Wrapping keras model\n",
        "model = KerasClassifier(build_fn=create_model, verbose=1)"
      ],
      "execution_count": 100,
      "outputs": []
    },
    {
      "cell_type": "code",
      "metadata": {
        "id": "6mFFC-_cMQOW",
        "colab_type": "code",
        "colab": {}
      },
      "source": [
        "# define the grid search parameters\n",
        "batch_size = [20000, 200000]\n",
        "optimizer = ['SGD', 'RMSprop', 'Adam', 'Adagrad']\n",
        "init_mode = ['uniform', 'glorot_uniform', 'he_uniform']\n",
        "activation = ['relu', 'tanh', 'sigmoid']\n",
        "epochs = [5, 10]\n",
        "dropout_rate = [0.0, 0.1, 0.2, 0.3]\n",
        "param_grid = dict(batch_size=batch_size, epochs=epochs, optimizer=optimizer, dropout_rate=dropout_rate, init_mode = init_mode, activation = activation)"
      ],
      "execution_count": 101,
      "outputs": []
    },
    {
      "cell_type": "code",
      "metadata": {
        "id": "nr6hdVH-n4g_",
        "colab_type": "code",
        "colab": {
          "base_uri": "https://localhost:8080/",
          "height": 462
        },
        "outputId": "b724b9f6-14bc-4e71-8348-28429a79b4f0"
      },
      "source": [
        "# RandomizedSearchCV\n",
        "Randomized_Search = RandomizedSearchCV(estimator=model, param_distributions=param_grid, n_jobs=-1)\n",
        "Randomized_Search_result = Randomized_Search.fit(x_train, y_train, class_weight=weights, validation_split=0.20, verbose=1)"
      ],
      "execution_count": 103,
      "outputs": [
        {
          "output_type": "stream",
          "text": [
            "/usr/local/lib/python3.6/dist-packages/joblib/externals/loky/process_executor.py:691: UserWarning: A worker stopped while some jobs were given to the executor. This can be caused by a too short worker timeout or by a memory leak.\n",
            "  \"timeout or by a memory leak.\", UserWarning\n"
          ],
          "name": "stderr"
        },
        {
          "output_type": "stream",
          "text": [
            "Train on 1773061 samples, validate on 443266 samples\n",
            "Epoch 1/10\n",
            "1773061/1773061 [==============================] - 2s 1us/step - loss: 0.2672 - accuracy: 0.9690 - val_loss: 0.1080 - val_accuracy: 0.9965\n",
            "Epoch 2/10\n",
            "1773061/1773061 [==============================] - 1s 1us/step - loss: 0.0874 - accuracy: 0.9957 - val_loss: 0.0775 - val_accuracy: 0.9960\n",
            "Epoch 3/10\n",
            "1773061/1773061 [==============================] - 1s 1us/step - loss: 0.0662 - accuracy: 0.9958 - val_loss: 0.0584 - val_accuracy: 0.9962\n",
            "Epoch 4/10\n",
            "1773061/1773061 [==============================] - 1s 1us/step - loss: 0.0565 - accuracy: 0.9962 - val_loss: 0.0525 - val_accuracy: 0.9974\n",
            "Epoch 5/10\n",
            "1773061/1773061 [==============================] - 1s 1us/step - loss: 0.0501 - accuracy: 0.9965 - val_loss: 0.0448 - val_accuracy: 0.9967\n",
            "Epoch 6/10\n",
            "1773061/1773061 [==============================] - 1s 1us/step - loss: 0.0443 - accuracy: 0.9967 - val_loss: 0.0411 - val_accuracy: 0.9969\n",
            "Epoch 7/10\n",
            "1773061/1773061 [==============================] - 1s 1us/step - loss: 0.0413 - accuracy: 0.9968 - val_loss: 0.0383 - val_accuracy: 0.9977\n",
            "Epoch 8/10\n",
            "1773061/1773061 [==============================] - 1s 1us/step - loss: 0.0383 - accuracy: 0.9969 - val_loss: 0.0356 - val_accuracy: 0.9969\n",
            "Epoch 9/10\n",
            "1773061/1773061 [==============================] - 1s 1us/step - loss: 0.0361 - accuracy: 0.9971 - val_loss: 0.0333 - val_accuracy: 0.9976\n",
            "Epoch 10/10\n",
            "1773061/1773061 [==============================] - 1s 1us/step - loss: 0.0344 - accuracy: 0.9971 - val_loss: 0.0330 - val_accuracy: 0.9958\n"
          ],
          "name": "stdout"
        }
      ]
    },
    {
      "cell_type": "code",
      "metadata": {
        "id": "TN1mr9k8pSEL",
        "colab_type": "code",
        "colab": {
          "base_uri": "https://localhost:8080/",
          "height": 74
        },
        "outputId": "07c9e3dd-21b8-4762-97dd-6434acd71a80"
      },
      "source": [
        "# GridSearchCV\n",
        "Grid_Search = GridSearchCV(estimator=model, param_grid=param_grid, n_jobs=-1)\n",
        "Grid_Search_result = Grid_Search.fit(x_train, y_train, class_weight=weights, validation_split=0.20, verbose=1)"
      ],
      "execution_count": null,
      "outputs": [
        {
          "output_type": "stream",
          "text": [
            "/usr/local/lib/python3.6/dist-packages/joblib/externals/loky/process_executor.py:691: UserWarning: A worker stopped while some jobs were given to the executor. This can be caused by a too short worker timeout or by a memory leak.\n",
            "  \"timeout or by a memory leak.\", UserWarning\n"
          ],
          "name": "stderr"
        }
      ]
    },
    {
      "cell_type": "code",
      "metadata": {
        "id": "PewmIvpYMQQ_",
        "colab_type": "code",
        "colab": {
          "base_uri": "https://localhost:8080/",
          "height": 35
        },
        "outputId": "e42072b4-dd05-49f8-8e0c-62eabad6cb0c"
      },
      "source": [
        "# summarize results\n",
        "print(\"Randomized_Search_result: \\n Best: %f using %s\" % (Randomized_Search_result.best_score_, Randomized_Search_result.best_params_))\n",
        "print(\"Grid_Search: \\nBest: %f using %s\" % (grid_result.best_score_, grid_result.best_params_))"
      ],
      "execution_count": 41,
      "outputs": [
        {
          "output_type": "stream",
          "text": [
            "Best: 0.968550 using {'optimizer': 'Adam', 'init_mode': 'he_uniform', 'epochs': 10, 'dropout_rate': 0.1, 'batch_size': 20000, 'activation': 'tanh'}\n"
          ],
          "name": "stdout"
        }
      ]
    },
    {
      "cell_type": "code",
      "metadata": {
        "id": "p_KbbAiso8EF",
        "colab_type": "code",
        "colab": {}
      },
      "source": [
        ""
      ],
      "execution_count": null,
      "outputs": []
    },
    {
      "cell_type": "code",
      "metadata": {
        "id": "4Rottdwjo8G-",
        "colab_type": "code",
        "colab": {}
      },
      "source": [
        ""
      ],
      "execution_count": null,
      "outputs": []
    },
    {
      "cell_type": "code",
      "metadata": {
        "id": "AYKi82e5eHm7",
        "colab_type": "code",
        "colab": {}
      },
      "source": [
        "# model with best parameters\n",
        "model = Sequential()\n",
        "model.add(Dense(units = 64, input_dim = 10, activation = grid_result.best_params_['activation'], kernel_initializer=grid_result.best_params_['init_mode']))\n",
        "model.add(Dense(units = 32, activation = grid_result.best_params_['activation']))\n",
        "model.add(Dropout(grid_result.best_params_['dropout_rate']))\n",
        "model.add(Dense(units = 1, activation = \"sigmoid\"))\n",
        "model.compile(optimizer = grid_result.best_params_['optimizer'], loss = \"binary_crossentropy\", metrics = [\"accuracy\"])"
      ],
      "execution_count": 87,
      "outputs": []
    },
    {
      "cell_type": "code",
      "metadata": {
        "id": "nyzaTTwGeXsA",
        "colab_type": "code",
        "colab": {
          "base_uri": "https://localhost:8080/",
          "height": 423
        },
        "outputId": "4973f3fa-e6c1-4955-da5c-19579c52e9fd"
      },
      "source": [
        "weights = {0:1, 1:np.sqrt(336)}\n",
        "model.fit(x_train, y_train, class_weight=weights, validation_split=0.20, verbose=1, epochs = 10, batch_size = 20000)"
      ],
      "execution_count": 88,
      "outputs": [
        {
          "output_type": "stream",
          "text": [
            "Train on 1773061 samples, validate on 443266 samples\n",
            "Epoch 1/10\n",
            "1773061/1773061 [==============================] - 2s 1us/step - loss: 0.3326 - accuracy: 0.9121 - val_loss: 0.1242 - val_accuracy: 0.9926\n",
            "Epoch 2/10\n",
            "1773061/1773061 [==============================] - 1s 1us/step - loss: 0.0939 - accuracy: 0.9940 - val_loss: 0.0766 - val_accuracy: 0.9954\n",
            "Epoch 3/10\n",
            "1773061/1773061 [==============================] - 1s 1us/step - loss: 0.0695 - accuracy: 0.9955 - val_loss: 0.0639 - val_accuracy: 0.9964\n",
            "Epoch 4/10\n",
            "1773061/1773061 [==============================] - 1s 1us/step - loss: 0.0592 - accuracy: 0.9961 - val_loss: 0.0563 - val_accuracy: 0.9968\n",
            "Epoch 5/10\n",
            "1773061/1773061 [==============================] - 1s 1us/step - loss: 0.0523 - accuracy: 0.9964 - val_loss: 0.0504 - val_accuracy: 0.9969\n",
            "Epoch 6/10\n",
            "1773061/1773061 [==============================] - 1s 1us/step - loss: 0.0472 - accuracy: 0.9967 - val_loss: 0.0461 - val_accuracy: 0.9966\n",
            "Epoch 7/10\n",
            "1773061/1773061 [==============================] - 1s 1us/step - loss: 0.0431 - accuracy: 0.9968 - val_loss: 0.0426 - val_accuracy: 0.9971\n",
            "Epoch 8/10\n",
            "1773061/1773061 [==============================] - 1s 1us/step - loss: 0.0402 - accuracy: 0.9969 - val_loss: 0.0392 - val_accuracy: 0.9969\n",
            "Epoch 9/10\n",
            "1773061/1773061 [==============================] - 1s 1us/step - loss: 0.0377 - accuracy: 0.9970 - val_loss: 0.0370 - val_accuracy: 0.9973\n",
            "Epoch 10/10\n",
            "1773061/1773061 [==============================] - 1s 1us/step - loss: 0.0356 - accuracy: 0.9970 - val_loss: 0.0357 - val_accuracy: 0.9969\n"
          ],
          "name": "stdout"
        },
        {
          "output_type": "execute_result",
          "data": {
            "text/plain": [
              "<keras.callbacks.callbacks.History at 0x7fd6adef9ac8>"
            ]
          },
          "metadata": {
            "tags": []
          },
          "execution_count": 88
        }
      ]
    },
    {
      "cell_type": "code",
      "metadata": {
        "id": "WzBvXEaM4Vc6",
        "colab_type": "code",
        "colab": {}
      },
      "source": [
        "# Predicting the Test set results\n",
        "y_pred = model.predict(x_test)\n",
        "y_pred[y_pred >= 0.5] = 1\n",
        "y_pred[y_pred < 0.5] = 0"
      ],
      "execution_count": 89,
      "outputs": []
    },
    {
      "cell_type": "code",
      "metadata": {
        "id": "K3rpMTZaWIUc",
        "colab_type": "code",
        "colab": {
          "base_uri": "https://localhost:8080/",
          "height": 310
        },
        "outputId": "866a9ebd-b1e7-4cdb-997d-90704632af4e"
      },
      "source": [
        "print(\"Test Recall: %0.4f\" % recall_score(y_test, y_pred))\n",
        "print(\"Test Precision: %0.4f\" % precision_score(y_test, y_pred))\n",
        "\n",
        "cm = confusion_matrix(y_test, y_pred) # rows = truth, cols = prediction\n",
        "# df_cm = pd.DataFrame(cm, index = (0, 1), columns = (0, 1))\n",
        "group_names = ['True Neg','False Pos','False Neg','True Pos']\n",
        "group_counts = [\"{0:0.0f}\".format(value) for value in cm.flatten()]\n",
        "labels = [f\"{v1}\\n{v2}\" for v1, v2 in zip(group_names,group_counts)]\n",
        "labels = np.asarray(labels).reshape(2,2)\n",
        "sns.heatmap(cm, annot=labels, fmt='', cmap='Blues')\n",
        "plt.show()"
      ],
      "execution_count": 90,
      "outputs": [
        {
          "output_type": "stream",
          "text": [
            "Test Recall: 0.8421\n",
            "Test Precision: 0.4902\n"
          ],
          "name": "stdout"
        },
        {
          "output_type": "display_data",
          "data": {
            "image/png": "[encoded data removed]",
            "text/plain": [
              "<Figure size 432x288 with 2 Axes>"
            ]
          },
          "metadata": {
            "tags": []
          }
        }
      ]
    },
    {
      "cell_type": "code",
      "metadata": {
        "id": "ciTdrrajjVQv",
        "colab_type": "code",
        "colab": {}
      },
      "source": [
        ""
      ],
      "execution_count": null,
      "outputs": []
    }
  ]
}